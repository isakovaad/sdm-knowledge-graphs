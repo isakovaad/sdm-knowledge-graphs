{
 "cells": [
  {
   "cell_type": "code",
   "execution_count": 1,
   "id": "fc44d589",
   "metadata": {},
   "outputs": [],
   "source": [
    "from rdflib import Graph, Namespace, Literal\n",
    "from rdflib.namespace import RDFS, RDF, XSD\n",
    "import os\n",
    "\n",
    "graph = Graph()\n",
    "LAB = Namespace(\"http://SDM_LAB2.org/\")\n",
    "graph.bind('lab', LAB)"
   ]
  },
  {
   "cell_type": "markdown",
   "id": "7801c7ab-edfd-4c97-b9df-ed6ec3596a20",
   "metadata": {},
   "source": [
    "### Add:\n",
    "- class 'Paper' to the graph\n",
    "- properties 'title' and 'abstract' to 'Paper' class"
   ]
  },
  {
   "cell_type": "code",
   "execution_count": 5,
   "id": "f4e9334a",
   "metadata": {},
   "outputs": [
    {
     "data": {
      "text/plain": [
       "<Graph identifier=Nceda33972fd7435d8d69123879b3d76a (<class 'rdflib.graph.Graph'>)>"
      ]
     },
     "execution_count": 5,
     "metadata": {},
     "output_type": "execute_result"
    }
   ],
   "source": [
    "graph.add((LAB.Paper, RDF.type, RDFS.Class))\n",
    "graph.add((LAB.Paper, RDFS.label, Literal(\"Paper\")))\n",
    "\n",
    "graph.add((LAB.title, RDF.type, RDF.Property))\n",
    "graph.add((LAB.title, RDFS.domain, LAB.Paper))\n",
    "graph.add((LAB.title, RDFS.range, XSD.string))\n",
    "graph.add((LAB.title, RDFS.label, Literal(\"title\")))\n",
    "\n",
    "graph.add((LAB.abstract, RDF.type, RDF.Property))\n",
    "graph.add((LAB.abstract, RDFS.domain, LAB.Paper))\n",
    "graph.add((LAB.abstract, RDFS.range, XSD.string))\n",
    "graph.add((LAB.abstract, RDFS.label, Literal(\"abstract\")))"
   ]
  },
  {
   "cell_type": "markdown",
   "id": "0918bff0-0467-4d3d-9973-0283b9c41290",
   "metadata": {},
   "source": [
    "### Add:\n",
    "- class 'Author' to the graph, subclass of 'Person'\n",
    "- properties 'Name' and 'writes' to 'Author' class\n",
    "- class 'Reviewer' to the graph, subclass of 'Person'\n",
    "- class 'Supervisor' to the graph, subclass of 'Person'\n",
    "- property 'assigns' to 'Supervisor' class\n",
    "- class 'Editor' to the graph, subclass of 'Supervisor'\n",
    "- class 'Chair' to the graph, subclass of 'Supervisor'\n",
    "- property 'processJournal' to 'Editor' class\n",
    "- property 'processConference' to 'Chair' class"
   ]
  },
  {
   "cell_type": "code",
   "execution_count": 6,
   "id": "da9d21d1",
   "metadata": {},
   "outputs": [
    {
     "data": {
      "text/plain": [
       "<Graph identifier=Nceda33972fd7435d8d69123879b3d76a (<class 'rdflib.graph.Graph'>)>"
      ]
     },
     "execution_count": 6,
     "metadata": {},
     "output_type": "execute_result"
    }
   ],
   "source": [
    "graph.add((LAB.Person, RDF.type, RDFS.Class))\n",
    "graph.add((LAB.Person, RDFS.label, Literal(\"Person\")))\n",
    "\n",
    "graph.add((LAB.Author, RDF.type, RDFS.Class))\n",
    "graph.add((LAB.Author, RDFS.subClassOf, LAB.Person))\n",
    "graph.add((LAB.Author, RDFS.label, Literal(\"Author\")))\n",
    "\n",
    "graph.add((LAB.Name, RDF.type, RDF.Property))\n",
    "graph.add((LAB.Name, RDFS.domain, LAB.Author))\n",
    "graph.add((LAB.Name, RDFS.range, XSD.string))\n",
    "graph.add((LAB.Name, RDFS.label, Literal(\"Name\")))\n",
    "\n",
    "graph.add((LAB.writes, RDF.type, RDF.Property))\n",
    "graph.add((LAB.writes, RDFS.domain, LAB.Author))\n",
    "graph.add((LAB.writes, RDFS.range, LAB.Paper))\n",
    "graph.add((LAB.writes, RDFS.label, Literal(\"writes\")))\n",
    "\n",
    "graph.add((LAB.Reviewer, RDF.type, RDFS.Class))\n",
    "graph.add((LAB.Reviewer, RDFS.subClassOf, LAB.Person))\n",
    "graph.add((LAB.Reviewer, RDFS.label, Literal(\"Reviewer\")))\n",
    "\n",
    "graph.add((LAB.Supervisor, RDF.type, RDFS.Class))\n",
    "graph.add((LAB.Supervisor, RDFS.subClassOf, LAB.Person))\n",
    "graph.add((LAB.Supervisor, RDFS.label, Literal(\"Supervisor\")))\n",
    "\n",
    "graph.add((LAB.assigns, RDF.type, RDF.Property))\n",
    "graph.add((LAB.assigns, RDFS.domain, LAB.Supervisor))\n",
    "graph.add((LAB.assigns, RDFS.range, LAB.Reviewer))\n",
    "graph.add((LAB.assigns, RDFS.label, Literal(\"assigns\")))\n",
    "\n",
    "graph.add((LAB.Editor, RDF.type, RDFS.Class))\n",
    "graph.add((LAB.Editor, RDFS.subClassOf, LAB.Supervisor))\n",
    "graph.add((LAB.Editor, RDFS.label, Literal(\"Editor\")))\t\n",
    "\n",
    "graph.add((LAB.Chair, RDF.type, RDFS.Class))\n",
    "graph.add((LAB.Chair, RDFS.subClassOf, LAB.Supervisor))\n",
    "graph.add((LAB.Chair, RDFS.label, Literal(\"Chair\")))\n",
    "\n",
    "graph.add((LAB.processJournal, RDF.type, RDF.Property))\n",
    "graph.add((LAB.processJournal, RDFS.domain, LAB.Editor))\n",
    "graph.add((LAB.processJournal, RDFS.range, LAB.Journal))\n",
    "graph.add((LAB.processJournal, RDFS.label, Literal(\"processJournal\")))\n",
    "\n",
    "graph.add((LAB.processConference, RDF.type, RDF.Property))\t\n",
    "graph.add((LAB.processConference, RDFS.domain, LAB.Chair))\n",
    "graph.add((LAB.processConference, RDFS.range, LAB.Conference))\n",
    "graph.add((LAB.processConference, RDFS.label, Literal(\"processConference\")))"
   ]
  },
  {
   "cell_type": "markdown",
   "id": "766fef85-c5f7-4254-aa15-9150961bdedb",
   "metadata": {},
   "source": [
    "### Add: \n",
    "- class 'Person' to the graph\n",
    "- property 'journal' to 'Journal' class\n",
    "- class 'Conference' to the graph\n",
    "- property 'name' to 'Conference' class\n",
    "- class 'Publication' to the graph\n",
    "- property 'publishedAs' to 'Paper' class\n",
    "- classes 'Proceedings' and 'Volume' to the graph, subclasses of 'Publication'\n",
    "- property 'isIn' to 'Conference' class\n",
    "- property 'isOf' to 'Journal' class\n",
    "- properties 'proceedingTitle', 'year', and 'proceedingRelatedTo' to 'Proceedings' class\n",
    "- properties 'volumeName', 'year', and 'volumeRelatedTo' to 'Volume' class"
   ]
  },
  {
   "cell_type": "code",
   "execution_count": 3,
   "id": "caa29dd5",
   "metadata": {},
   "outputs": [
    {
     "data": {
      "text/plain": [
       "<Graph identifier=Nceda33972fd7435d8d69123879b3d76a (<class 'rdflib.graph.Graph'>)>"
      ]
     },
     "execution_count": 3,
     "metadata": {},
     "output_type": "execute_result"
    }
   ],
   "source": [
    "graph.add((LAB.Journal, RDF.type, RDFS.Class))\n",
    "graph.add((LAB.Journal, RDFS.label, Literal(\"Journal\")))\n",
    "\n",
    "graph.add((LAB.journal, RDF.type, RDF.Property))\n",
    "graph.add((LAB.journal, RDFS.domain, LAB.Journal))\n",
    "graph.add((LAB.journal, RDFS.range, XSD.string))\n",
    "graph.add((LAB.journal, RDFS.label, Literal(\"journal\")))\n",
    "\n",
    "graph.add((LAB.Conference, RDF.type, RDFS.Class))\n",
    "graph.add((LAB.Conference, RDFS.label, Literal(\"Conference\")))\n",
    "\n",
    "graph.add((LAB.name, RDF.type, RDF.Property))\n",
    "graph.add((LAB.name, RDFS.domain, LAB.Conference))\n",
    "graph.add((LAB.name, RDFS.range, XSD.string))\n",
    "graph.add((LAB.name, RDFS.label, Literal(\"name\")))\n",
    "\n",
    "graph.add((LAB.Publication, RDF.type, RDFS.Class))\n",
    "graph.add((LAB.Publication, RDFS.label, Literal(\"Publication\")))\n",
    "\n",
    "graph.add((LAB.publishedAs, RDF.type, RDF.Property))\n",
    "graph.add((LAB.publishedAs, RDFS.domain, LAB.Paper))\n",
    "graph.add((LAB.publishedAs, RDFS.range, LAB.Publication))\n",
    "graph.add((LAB.publishedAs, RDFS.label, Literal(\"publishedAs\")))\n",
    "\n",
    "graph.add((LAB.Proceedings, RDF.type, RDFS.Class))\n",
    "graph.add((LAB.Proceedings, RDFS.subClassOf, LAB.Publication))\n",
    "graph.add((LAB.Proceedings, RDFS.label, Literal(\"Proceedings\")))\n",
    "\n",
    "graph.add((LAB.Volume, RDF.type, RDFS.Class))\n",
    "graph.add((LAB.Volume, RDFS.subClassOf, LAB.Publication))\n",
    "graph.add((LAB.Volume, RDFS.label, Literal(\"Volume\")))\n",
    "\n",
    "graph.add((LAB.isIn, RDF.type, RDF.Property))\n",
    "graph.add((LAB.isIn, RDFS.domain, LAB.Conference))\n",
    "graph.add((LAB.isIn, RDFS.range, LAB.Proceedings))\n",
    "graph.add((LAB.isIn, RDFS.label, Literal(\"isIn\")))\n",
    "\n",
    "graph.add((LAB.isOf, RDF.type, RDF.Property))\n",
    "graph.add((LAB.isOf, RDFS.domain, LAB.Journal))\n",
    "graph.add((LAB.isOf, RDFS.range, LAB.Volume))\n",
    "graph.add((LAB.isOf, RDFS.label, Literal(\"isOf\")))\n",
    "\n",
    "graph.add((LAB.proceedingTitle, RDF.type, RDF.Property))\n",
    "graph.add((LAB.proceedingTitle, RDFS.domain, LAB.Proceedings))\n",
    "graph.add((LAB.proceedingTitle, RDFS.range, XSD.string))\n",
    "graph.add((LAB.proceedingTitle, RDFS.label, Literal(\"proceedingTitle\")))\n",
    "\n",
    "graph.add((LAB.year, RDF.type, RDF.Property))\n",
    "graph.add((LAB.year, RDFS.domain, LAB.Proceedings))\n",
    "graph.add((LAB.year, RDFS.range, XSD.int))\n",
    "graph.add((LAB.year, RDFS.label, Literal(\"year\")))\n",
    "\n",
    "graph.add((LAB.proceedingRelatedTo, RDF.type, RDF.Property))\n",
    "graph.add((LAB.proceedingRelatedTo, RDFS.domain, LAB.Proceedings))\n",
    "graph.add((LAB.proceedingRelatedTo, RDFS.range, LAB.Topic))\n",
    "graph.add((LAB.proceedingRelatedTo, RDFS.label, Literal(\"proceedingRelatedTo\")))\n",
    "\n",
    "graph.add((LAB.volumeName, RDF.type, RDF.Property))\n",
    "graph.add((LAB.volumeName, RDFS.domain, LAB.Volume))\n",
    "graph.add((LAB.volumeName, RDFS.range, XSD.string))\n",
    "graph.add((LAB.volumeName, RDFS.label, Literal(\"volumeName\")))\n",
    "\n",
    "graph.add((LAB.year, RDF.type, RDF.Property))\n",
    "graph.add((LAB.year, RDFS.domain, LAB.Volume))\n",
    "graph.add((LAB.year, RDFS.range, XSD.int))\n",
    "graph.add((LAB.year, RDFS.label, Literal(\"year\")))\n",
    "\n",
    "graph.add((LAB.volumeRelatedTo, RDF.type, RDF.Property))\n",
    "graph.add((LAB.volumeRelatedTo, RDFS.domain, LAB.Volume))\n",
    "graph.add((LAB.volumeRelatedTo, RDFS.range, LAB.Topic))\n",
    "graph.add((LAB.volumeRelatedTo, RDFS.label, Literal(\"volumeRelatedTo\")))"
   ]
  },
  {
   "cell_type": "markdown",
   "id": "1ee206b4-d289-4bd6-8eb6-b59b90b0387a",
   "metadata": {},
   "source": [
    "### Add:\n",
    "- class 'Topic' to the graph\n",
    "- property 'topicName' to 'Topic' class\n",
    "- property 'paperRelatedTo' to 'Paper' class"
   ]
  },
  {
   "cell_type": "code",
   "execution_count": 4,
   "id": "a19fb5fd",
   "metadata": {},
   "outputs": [
    {
     "data": {
      "text/plain": [
       "<Graph identifier=Nceda33972fd7435d8d69123879b3d76a (<class 'rdflib.graph.Graph'>)>"
      ]
     },
     "execution_count": 4,
     "metadata": {},
     "output_type": "execute_result"
    }
   ],
   "source": [
    "graph.add((LAB.Topic, RDF.type, RDFS.Class))\n",
    "graph.add((LAB.Topic, RDFS.label, Literal(\"Topic\")))\n",
    "\n",
    "graph.add((LAB.topicName, RDF.type, RDF.Property))\n",
    "graph.add((LAB.topicName, RDFS.domain, LAB.Topic))\n",
    "graph.add((LAB.topicName, RDFS.range, XSD.string))\n",
    "graph.add((LAB.topicName, RDFS.label, Literal(\"topicName\")))\n",
    "\n",
    "graph.add((LAB.paperRelatedTo, RDF.type, RDF.Property))\n",
    "graph.add((LAB.paperRelatedTo, RDFS.domain, LAB.Paper))\n",
    "graph.add((LAB.paperRelatedTo, RDFS.range, LAB.Topic))\n",
    "graph.add((LAB.paperRelatedTo, RDFS.label, Literal(\"paperRelatedTo\")))"
   ]
  },
  {
   "cell_type": "markdown",
   "id": "19eb6879-dca2-48ec-89dc-efc92156637a",
   "metadata": {},
   "source": [
    "### Add:\n",
    "- class 'Review' to the graph\n",
    "- property 'reviewed' to 'Reviewer' class\n",
    "- property 'isReviewOf' to 'Review' class\n",
    "- property 'reviewDecision' to 'Review' class\n",
    "- property 'reviewDecisionBoolean' to 'Review' class"
   ]
  },
  {
   "cell_type": "code",
   "execution_count": 6,
   "id": "f997e33f",
   "metadata": {},
   "outputs": [
    {
     "data": {
      "text/plain": [
       "<Graph identifier=N3009492f810b452797f697358e66c7db (<class 'rdflib.graph.Graph'>)>"
      ]
     },
     "execution_count": 6,
     "metadata": {},
     "output_type": "execute_result"
    }
   ],
   "source": [
    "graph.add((LAB.Review, RDF.type, RDFS.Class))\n",
    "graph.add((LAB.Review, RDFS.label, Literal(\"Review\")))\n",
    "\n",
    "graph.add((LAB.reviewed, RDF.type, RDF.Property))\n",
    "graph.add((LAB.reviewed, RDFS.domain, LAB.Reviewer))\n",
    "graph.add((LAB.reviewed, RDFS.range, LAB.Review))\n",
    "graph.add((LAB.reviewed, RDFS.label, Literal(\"reviewed\")))\n",
    "\n",
    "graph.add((LAB.isReviewOf, RDF.type, RDF.Property))\n",
    "graph.add((LAB.isReviewOf, RDFS.domain, LAB.Review))\n",
    "graph.add((LAB.isReviewOf, RDFS.range, LAB.Paper))\n",
    "graph.add((LAB.isReviewOf, RDFS.label, Literal(\"isReviewOf\")))\n",
    "\n",
    "graph.add((LAB.reviewDecision, RDF.type, RDF.Property))\n",
    "graph.add((LAB.reviewDecision, RDFS.domain, LAB.Review))\n",
    "graph.add((LAB.reviewDecision, RDFS.range, XSD.string))\n",
    "graph.add((LAB.reviewDecision, RDFS.label, Literal(\"reviewDecision\")))\n",
    "\n",
    "graph.add((LAB.reviewDecisionBoolean, RDF.type, RDF.Property))\n",
    "graph.add((LAB.reviewDecisionBoolean, RDFS.domain, LAB.Review))\n",
    "graph.add((LAB.reviewDecisionBoolean, RDFS.range, XSD.boolean))\n",
    "graph.add((LAB.reviewDecisionBoolean, RDFS.label, Literal(\"reviewDecisionBoolean\")))"
   ]
  },
  {
   "cell_type": "markdown",
   "id": "49d95085-48e8-414d-9b1e-e5909f7a1d29",
   "metadata": {},
   "source": [
    "### Add:\n",
    "- property 'isPublishedInConference' to 'Paper' class\n",
    "- property 'isPublishedInJournal' to 'Paper' class"
   ]
  },
  {
   "cell_type": "code",
   "execution_count": 7,
   "id": "e5261130",
   "metadata": {},
   "outputs": [
    {
     "data": {
      "text/plain": [
       "<Graph identifier=Nceda33972fd7435d8d69123879b3d76a (<class 'rdflib.graph.Graph'>)>"
      ]
     },
     "execution_count": 7,
     "metadata": {},
     "output_type": "execute_result"
    }
   ],
   "source": [
    "graph.add((LAB.isPublishedInConference, RDF.type, RDF.Property))\n",
    "graph.add((LAB.isPublishedInConference, RDFS.domain, LAB.Paper))\n",
    "graph.add((LAB.isPublishedInConference, RDFS.range, LAB.Proceedings))\n",
    "graph.add((LAB.isPublishedInConference, RDFS.label, Literal(\"isPublishedInConference\")))\n",
    "\n",
    "graph.add((LAB.isPublishedInJournal, RDF.type, RDF.Property))\n",
    "graph.add((LAB.isPublishedInJournal, RDFS.domain, LAB.Paper))\n",
    "graph.add((LAB.isPublishedInJournal, RDFS.range, LAB.Volume))\n",
    "graph.add((LAB.isPublishedInJournal, RDFS.label, Literal(\"isPublishedInJournal\")))"
   ]
  },
  {
   "cell_type": "code",
   "execution_count": 8,
   "id": "f309f2f7",
   "metadata": {},
   "outputs": [],
   "source": [
    "os.makedirs('data', exist_ok=True)"
   ]
  },
  {
   "cell_type": "code",
   "execution_count": 9,
   "id": "3bdaac32",
   "metadata": {},
   "outputs": [
    {
     "name": "stdout",
     "output_type": "stream",
     "text": [
      "[a rdfg:Graph;rdflib:storage [a rdflib:Store;rdfs:label 'Memory']].\n"
     ]
    }
   ],
   "source": [
    "print(graph.serialize('data/tbox.ttl', format=\"ttl\"))"
   ]
  }
 ],
 "metadata": {
  "kernelspec": {
   "display_name": "Python 3",
   "language": "python",
   "name": "python3"
  },
  "language_info": {
   "codemirror_mode": {
    "name": "ipython",
    "version": 3
   },
   "file_extension": ".py",
   "mimetype": "text/x-python",
   "name": "python",
   "nbconvert_exporter": "python",
   "pygments_lexer": "ipython3",
   "version": "3.8.8"
  }
 },
 "nbformat": 4,
 "nbformat_minor": 5
}
