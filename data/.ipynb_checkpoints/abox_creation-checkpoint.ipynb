{
 "cells": [
  {
   "cell_type": "code",
   "execution_count": 156,
   "id": "2feb50ce",
   "metadata": {},
   "outputs": [],
   "source": [
    "# Importing necessary libraries and modules\n",
    "import pandas as pd\n",
    "import random\n",
    "from rdflib.namespace import RDF, RDFS, FOAF, XSD, URIRef\n",
    "from rdflib import Graph\n",
    "import pandas as pd\n",
    "from rdflib import Namespace\n",
    "from rdflib import Literal"
   ]
  },
  {
   "cell_type": "code",
   "execution_count": 157,
   "id": "6c8bed4f",
   "metadata": {},
   "outputs": [],
   "source": [
    "# Read the CSV files\n",
    "authors1 = pd.read_csv('authors1.csv')\n",
    "authorsPapers = pd.read_csv('authorsPapers.csv')\n",
    "chair = pd.read_csv('chair.csv')\n",
    "conference = pd.read_csv('conference.csv')\n",
    "conferenceProceedings = pd.read_csv('conferenceProceedings.csv')\n",
    "editor = pd.read_csv('editor.csv')\n",
    "journal = pd.read_csv('journal.csv')\n",
    "journal_volumes = pd.read_csv('journal_volumes.csv')\n",
    "papers = pd.read_csv('papers.csv')\n",
    "proceeding = pd.read_csv('proceeding.csv')\n",
    "publications = pd.read_csv('publications.csv')\n",
    "reviewers = pd.read_csv('reviewers.csv')\n",
    "reviews = pd.read_csv('reviews.csv')\n",
    "supervisors = pd.read_csv('supervisors.csv')\n",
    "topic = pd.read_csv('topic.csv')\n",
    "topicsPapers = pd.read_csv('topicsPapers.csv')\n",
    "topicsProceedingsVolumes = pd.read_csv('topicsProceedingsVolumes.csv')\n",
    "volumes = pd.read_csv('volumes.csv')\n"
   ]
  },
  {
   "cell_type": "code",
   "execution_count": 158,
   "id": "058b2e59",
   "metadata": {},
   "outputs": [],
   "source": [
    "# Creating a graph\n",
    "g = Graph()"
   ]
  },
  {
   "cell_type": "code",
   "execution_count": 159,
   "id": "0a611267",
   "metadata": {},
   "outputs": [],
   "source": [
    "# Create many URIRefs in the same namespace, i.e. URIs with the same prefix\n",
    "LAB = Namespace(\"http://SDM_LAB2.org/\")"
   ]
  },
  {
   "cell_type": "code",
   "execution_count": 160,
   "id": "4369a419",
   "metadata": {},
   "outputs": [],
   "source": [
    "# Bind the lab namespace to a prefix for more readable output\n",
    "g.bind('lab',LAB)"
   ]
  },
  {
   "cell_type": "markdown",
   "id": "a6b1d1f4",
   "metadata": {},
   "source": [
    "Author [writes] -> Paper"
   ]
  },
  {
   "cell_type": "code",
   "execution_count": 161,
   "id": "87530862",
   "metadata": {},
   "outputs": [
    {
     "data": {
      "text/html": [
       "<div>\n",
       "<style scoped>\n",
       "    .dataframe tbody tr th:only-of-type {\n",
       "        vertical-align: middle;\n",
       "    }\n",
       "\n",
       "    .dataframe tbody tr th {\n",
       "        vertical-align: top;\n",
       "    }\n",
       "\n",
       "    .dataframe thead th {\n",
       "        text-align: right;\n",
       "    }\n",
       "</style>\n",
       "<table border=\"1\" class=\"dataframe\">\n",
       "  <thead>\n",
       "    <tr style=\"text-align: right;\">\n",
       "      <th></th>\n",
       "      <th>authorID</th>\n",
       "      <th>authorRef</th>\n",
       "      <th>Name</th>\n",
       "      <th>paperID</th>\n",
       "      <th>ID</th>\n",
       "    </tr>\n",
       "  </thead>\n",
       "  <tbody>\n",
       "    <tr>\n",
       "      <th>0</th>\n",
       "      <td>a0</td>\n",
       "      <td>57285646800</td>\n",
       "      <td>Zhu F.</td>\n",
       "      <td>p361</td>\n",
       "      <td>b131ac160af2c3ef91aff47f6578067183ca4c4b</td>\n",
       "    </tr>\n",
       "    <tr>\n",
       "      <th>1</th>\n",
       "      <td>a1</td>\n",
       "      <td>58827616000</td>\n",
       "      <td>Ding J.</td>\n",
       "      <td>p361</td>\n",
       "      <td>b131ac160af2c3ef91aff47f6578067183ca4c4b</td>\n",
       "    </tr>\n",
       "  </tbody>\n",
       "</table>\n",
       "</div>"
      ],
      "text/plain": [
       "  authorID    authorRef     Name paperID  \\\n",
       "0       a0  57285646800   Zhu F.    p361   \n",
       "1       a1  58827616000  Ding J.    p361   \n",
       "\n",
       "                                         ID  \n",
       "0  b131ac160af2c3ef91aff47f6578067183ca4c4b  \n",
       "1  b131ac160af2c3ef91aff47f6578067183ca4c4b  "
      ]
     },
     "execution_count": 161,
     "metadata": {},
     "output_type": "execute_result"
    }
   ],
   "source": [
    "authorsPapers.head(2)"
   ]
  },
  {
   "cell_type": "code",
   "execution_count": 162,
   "id": "b9539a11",
   "metadata": {},
   "outputs": [],
   "source": [
    "g.add((LAB.Author, LAB.writes, LAB.Paper))   \n",
    "for k in range(len(authorsPapers['authorID'])):\n",
    "    g.add((URIRef(LAB+authorsPapers['authorID'][k]), LAB.writes, URIRef(LAB+authorsPapers['paperID'][k])))\n",
    "    g.add((URIRef(LAB+authorsPapers['authorID'][k]), RDF.type, LAB.Author))"
   ]
  },
  {
   "cell_type": "markdown",
   "id": "02843d59",
   "metadata": {},
   "source": [
    "Paper [publishedAs] -> Publication"
   ]
  },
  {
   "cell_type": "code",
   "execution_count": 163,
   "id": "91b2f4d2",
   "metadata": {},
   "outputs": [
    {
     "data": {
      "text/html": [
       "<div>\n",
       "<style scoped>\n",
       "    .dataframe tbody tr th:only-of-type {\n",
       "        vertical-align: middle;\n",
       "    }\n",
       "\n",
       "    .dataframe tbody tr th {\n",
       "        vertical-align: top;\n",
       "    }\n",
       "\n",
       "    .dataframe thead th {\n",
       "        text-align: right;\n",
       "    }\n",
       "</style>\n",
       "<table border=\"1\" class=\"dataframe\">\n",
       "  <thead>\n",
       "    <tr style=\"text-align: right;\">\n",
       "      <th></th>\n",
       "      <th>publicationID</th>\n",
       "      <th>paperID</th>\n",
       "      <th>title</th>\n",
       "      <th>abstract</th>\n",
       "    </tr>\n",
       "  </thead>\n",
       "  <tbody>\n",
       "    <tr>\n",
       "      <th>0</th>\n",
       "      <td>pub0</td>\n",
       "      <td>p0</td>\n",
       "      <td>Reproducible, interactive, scalable and extens...</td>\n",
       "      <td>NaN</td>\n",
       "    </tr>\n",
       "    <tr>\n",
       "      <th>1</th>\n",
       "      <td>pub1</td>\n",
       "      <td>p1</td>\n",
       "      <td>High-Dimensional Probability: An Introduction ...</td>\n",
       "      <td>© 2018, Cambridge University Press Let us summ...</td>\n",
       "    </tr>\n",
       "  </tbody>\n",
       "</table>\n",
       "</div>"
      ],
      "text/plain": [
       "  publicationID paperID                                              title  \\\n",
       "0          pub0      p0  Reproducible, interactive, scalable and extens...   \n",
       "1          pub1      p1  High-Dimensional Probability: An Introduction ...   \n",
       "\n",
       "                                            abstract  \n",
       "0                                                NaN  \n",
       "1  © 2018, Cambridge University Press Let us summ...  "
      ]
     },
     "execution_count": 163,
     "metadata": {},
     "output_type": "execute_result"
    }
   ],
   "source": [
    "publications.head(2)"
   ]
  },
  {
   "cell_type": "code",
   "execution_count": 164,
   "id": "4f18e700",
   "metadata": {},
   "outputs": [],
   "source": [
    "g.add((LAB.Paper, LAB.publishedAs, LAB.Publication))   \n",
    "for k in range(len(publications['paperID'])):\n",
    "    g.add((URIRef(LAB+publications['paperID'][k]), LAB.publishedAs, URIRef(LAB+publications['publicationID'][k])))"
   ]
  },
  {
   "cell_type": "markdown",
   "id": "1d8b774e",
   "metadata": {},
   "source": [
    "Paper [paperRelatedTo] -> Topic"
   ]
  },
  {
   "cell_type": "code",
   "execution_count": 165,
   "id": "c0858b95",
   "metadata": {},
   "outputs": [
    {
     "data": {
      "text/html": [
       "<div>\n",
       "<style scoped>\n",
       "    .dataframe tbody tr th:only-of-type {\n",
       "        vertical-align: middle;\n",
       "    }\n",
       "\n",
       "    .dataframe tbody tr th {\n",
       "        vertical-align: top;\n",
       "    }\n",
       "\n",
       "    .dataframe thead th {\n",
       "        text-align: right;\n",
       "    }\n",
       "</style>\n",
       "<table border=\"1\" class=\"dataframe\">\n",
       "  <thead>\n",
       "    <tr style=\"text-align: right;\">\n",
       "      <th></th>\n",
       "      <th>topicID</th>\n",
       "      <th>topicName</th>\n",
       "      <th>paperID</th>\n",
       "      <th>ID</th>\n",
       "      <th>title</th>\n",
       "      <th>abstract</th>\n",
       "      <th>confjorID</th>\n",
       "      <th>confjorTitle</th>\n",
       "    </tr>\n",
       "  </thead>\n",
       "  <tbody>\n",
       "    <tr>\n",
       "      <th>0</th>\n",
       "      <td>t7270</td>\n",
       "      <td>Embedding strategies</td>\n",
       "      <td>p0</td>\n",
       "      <td>0c2d3b28d48426b8b72f7214a7708ba8b4efa9d6</td>\n",
       "      <td>Reproducible, interactive, scalable and extens...</td>\n",
       "      <td>NaN</td>\n",
       "      <td>j6283</td>\n",
       "      <td>Chemical Engineering Journal</td>\n",
       "    </tr>\n",
       "    <tr>\n",
       "      <th>1</th>\n",
       "      <td>t860</td>\n",
       "      <td>Chlorine compounds</td>\n",
       "      <td>p1</td>\n",
       "      <td>fa5853fdef7d2f6bb68203d187ddacbbddc63a8b</td>\n",
       "      <td>High-Dimensional Probability: An Introduction ...</td>\n",
       "      <td>© 2018, Cambridge University Press Let us summ...</td>\n",
       "      <td>j15687</td>\n",
       "      <td>Global Change Biology</td>\n",
       "    </tr>\n",
       "  </tbody>\n",
       "</table>\n",
       "</div>"
      ],
      "text/plain": [
       "  topicID             topicName paperID  \\\n",
       "0   t7270  Embedding strategies      p0   \n",
       "1    t860    Chlorine compounds      p1   \n",
       "\n",
       "                                         ID  \\\n",
       "0  0c2d3b28d48426b8b72f7214a7708ba8b4efa9d6   \n",
       "1  fa5853fdef7d2f6bb68203d187ddacbbddc63a8b   \n",
       "\n",
       "                                               title  \\\n",
       "0  Reproducible, interactive, scalable and extens...   \n",
       "1  High-Dimensional Probability: An Introduction ...   \n",
       "\n",
       "                                            abstract confjorID  \\\n",
       "0                                                NaN     j6283   \n",
       "1  © 2018, Cambridge University Press Let us summ...    j15687   \n",
       "\n",
       "                   confjorTitle  \n",
       "0  Chemical Engineering Journal  \n",
       "1         Global Change Biology  "
      ]
     },
     "execution_count": 165,
     "metadata": {},
     "output_type": "execute_result"
    }
   ],
   "source": [
    "topicsPapers.head(2)"
   ]
  },
  {
   "cell_type": "code",
   "execution_count": 166,
   "id": "165153d9",
   "metadata": {},
   "outputs": [],
   "source": [
    "g.add((LAB.Paper, LAB.paperRelatedTo, LAB.Topic))\n",
    "for k in range(len(topicsPapers['paperID'])):\n",
    "    g.add((URIRef(topicsPapers['paperID'][k]), LAB.paperRelatedTo, URIRef(topicsPapers['topicID'][k])))"
   ]
  },
  {
   "cell_type": "markdown",
   "id": "937ee07f",
   "metadata": {},
   "source": [
    "Conference [isIn] -> Proceedings"
   ]
  },
  {
   "cell_type": "code",
   "execution_count": 167,
   "id": "08ae344d",
   "metadata": {},
   "outputs": [
    {
     "data": {
      "text/html": [
       "<div>\n",
       "<style scoped>\n",
       "    .dataframe tbody tr th:only-of-type {\n",
       "        vertical-align: middle;\n",
       "    }\n",
       "\n",
       "    .dataframe tbody tr th {\n",
       "        vertical-align: top;\n",
       "    }\n",
       "\n",
       "    .dataframe thead th {\n",
       "        text-align: right;\n",
       "    }\n",
       "</style>\n",
       "<table border=\"1\" class=\"dataframe\">\n",
       "  <thead>\n",
       "    <tr style=\"text-align: right;\">\n",
       "      <th></th>\n",
       "      <th>conferenceID</th>\n",
       "      <th>conferenceRef</th>\n",
       "      <th>name</th>\n",
       "      <th>year</th>\n",
       "      <th>edition</th>\n",
       "      <th>conProIds</th>\n",
       "      <th>proceedingTitle</th>\n",
       "    </tr>\n",
       "  </thead>\n",
       "  <tbody>\n",
       "    <tr>\n",
       "      <th>0</th>\n",
       "      <td>c0</td>\n",
       "      <td>197283.0</td>\n",
       "      <td>11th International Conference on Hard and Elec...</td>\n",
       "      <td>2023.0</td>\n",
       "      <td>1.0</td>\n",
       "      <td>cp0</td>\n",
       "      <td>proceeding0</td>\n",
       "    </tr>\n",
       "    <tr>\n",
       "      <th>1</th>\n",
       "      <td>c1</td>\n",
       "      <td>175805.0</td>\n",
       "      <td>18th International Conference on Tangible, Emb...</td>\n",
       "      <td>2024.0</td>\n",
       "      <td>1.0</td>\n",
       "      <td>cp1</td>\n",
       "      <td>proceeding1</td>\n",
       "    </tr>\n",
       "  </tbody>\n",
       "</table>\n",
       "</div>"
      ],
      "text/plain": [
       "  conferenceID  conferenceRef  \\\n",
       "0           c0       197283.0   \n",
       "1           c1       175805.0   \n",
       "\n",
       "                                                name    year  edition  \\\n",
       "0  11th International Conference on Hard and Elec...  2023.0      1.0   \n",
       "1  18th International Conference on Tangible, Emb...  2024.0      1.0   \n",
       "\n",
       "  conProIds proceedingTitle  \n",
       "0       cp0     proceeding0  \n",
       "1       cp1     proceeding1  "
      ]
     },
     "execution_count": 167,
     "metadata": {},
     "output_type": "execute_result"
    }
   ],
   "source": [
    "conferenceProceedings.head(2)"
   ]
  },
  {
   "cell_type": "code",
   "execution_count": 168,
   "id": "2a3c5b05",
   "metadata": {},
   "outputs": [],
   "source": [
    "g.add((LAB.Conference, LAB.isIn, LAB.Proceedings))\n",
    "for k in range(len(conferenceProceedings['conferenceID'])):\n",
    "    g.add((URIRef(LAB+conferenceProceedings['conferenceID'][k]), LAB.isIn, URIRef(LAB+conferenceProceedings['conProIds'][k])))"
   ]
  },
  {
   "cell_type": "markdown",
   "id": "65e38dd0",
   "metadata": {},
   "source": [
    "Journal [isOf] -> Volume"
   ]
  },
  {
   "cell_type": "code",
   "execution_count": 169,
   "id": "50c288c0",
   "metadata": {},
   "outputs": [
    {
     "data": {
      "text/html": [
       "<div>\n",
       "<style scoped>\n",
       "    .dataframe tbody tr th:only-of-type {\n",
       "        vertical-align: middle;\n",
       "    }\n",
       "\n",
       "    .dataframe tbody tr th {\n",
       "        vertical-align: top;\n",
       "    }\n",
       "\n",
       "    .dataframe thead th {\n",
       "        text-align: right;\n",
       "    }\n",
       "</style>\n",
       "<table border=\"1\" class=\"dataframe\">\n",
       "  <thead>\n",
       "    <tr style=\"text-align: right;\">\n",
       "      <th></th>\n",
       "      <th>journalID</th>\n",
       "      <th>journalRef</th>\n",
       "      <th>journal</th>\n",
       "      <th>year</th>\n",
       "      <th>volumeName</th>\n",
       "      <th>journalVID</th>\n",
       "    </tr>\n",
       "  </thead>\n",
       "  <tbody>\n",
       "    <tr>\n",
       "      <th>0</th>\n",
       "      <td>j0</td>\n",
       "      <td>2-s2.0-85182825734</td>\n",
       "      <td>Health Information Science and Systems</td>\n",
       "      <td>2024</td>\n",
       "      <td>journal0</td>\n",
       "      <td>jv0</td>\n",
       "    </tr>\n",
       "    <tr>\n",
       "      <th>1</th>\n",
       "      <td>j1</td>\n",
       "      <td>2-s2.0-85184294976</td>\n",
       "      <td>Humanities and Social Sciences Communications</td>\n",
       "      <td>2024</td>\n",
       "      <td>journal1</td>\n",
       "      <td>jv1</td>\n",
       "    </tr>\n",
       "  </tbody>\n",
       "</table>\n",
       "</div>"
      ],
      "text/plain": [
       "  journalID          journalRef  \\\n",
       "0        j0  2-s2.0-85182825734   \n",
       "1        j1  2-s2.0-85184294976   \n",
       "\n",
       "                                         journal  year volumeName journalVID  \n",
       "0         Health Information Science and Systems  2024   journal0        jv0  \n",
       "1  Humanities and Social Sciences Communications  2024   journal1        jv1  "
      ]
     },
     "execution_count": 169,
     "metadata": {},
     "output_type": "execute_result"
    }
   ],
   "source": [
    "journal_volumes.head(2)"
   ]
  },
  {
   "cell_type": "code",
   "execution_count": 170,
   "id": "d3d296bd",
   "metadata": {},
   "outputs": [],
   "source": [
    "g.add((LAB.Journal, LAB.isOf, LAB.Volume))\n",
    "for k in range(len(journal_volumes['journalID'])):\n",
    "    g.add((URIRef(LAB+journal_volumes['journalID'][k]), LAB.isOf, URIRef(LAB+journal_volumes['journalVID'][k])))"
   ]
  },
  {
   "cell_type": "markdown",
   "id": "e6e1d6b5",
   "metadata": {},
   "source": [
    "Paper [isPublishedInConference] -> Proceedings and Paper [isPublishedInJournal] -> Volume"
   ]
  },
  {
   "cell_type": "code",
   "execution_count": 171,
   "id": "9d43041b",
   "metadata": {},
   "outputs": [
    {
     "data": {
      "text/html": [
       "<div>\n",
       "<style scoped>\n",
       "    .dataframe tbody tr th:only-of-type {\n",
       "        vertical-align: middle;\n",
       "    }\n",
       "\n",
       "    .dataframe tbody tr th {\n",
       "        vertical-align: top;\n",
       "    }\n",
       "\n",
       "    .dataframe thead th {\n",
       "        text-align: right;\n",
       "    }\n",
       "</style>\n",
       "<table border=\"1\" class=\"dataframe\">\n",
       "  <thead>\n",
       "    <tr style=\"text-align: right;\">\n",
       "      <th></th>\n",
       "      <th>paperID</th>\n",
       "      <th>ID</th>\n",
       "      <th>title</th>\n",
       "      <th>abstract</th>\n",
       "      <th>confjorID</th>\n",
       "      <th>confjorTitle</th>\n",
       "      <th>proceedingsVolumesIds</th>\n",
       "    </tr>\n",
       "  </thead>\n",
       "  <tbody>\n",
       "    <tr>\n",
       "      <th>0</th>\n",
       "      <td>p0</td>\n",
       "      <td>0c2d3b28d48426b8b72f7214a7708ba8b4efa9d6</td>\n",
       "      <td>Reproducible, interactive, scalable and extens...</td>\n",
       "      <td>NaN</td>\n",
       "      <td>j6283</td>\n",
       "      <td>Chemical Engineering Journal</td>\n",
       "      <td>jv15795</td>\n",
       "    </tr>\n",
       "    <tr>\n",
       "      <th>1</th>\n",
       "      <td>p1</td>\n",
       "      <td>fa5853fdef7d2f6bb68203d187ddacbbddc63a8b</td>\n",
       "      <td>High-Dimensional Probability: An Introduction ...</td>\n",
       "      <td>© 2018, Cambridge University Press Let us summ...</td>\n",
       "      <td>j15687</td>\n",
       "      <td>Global Change Biology</td>\n",
       "      <td>cp1</td>\n",
       "    </tr>\n",
       "  </tbody>\n",
       "</table>\n",
       "</div>"
      ],
      "text/plain": [
       "  paperID                                        ID  \\\n",
       "0      p0  0c2d3b28d48426b8b72f7214a7708ba8b4efa9d6   \n",
       "1      p1  fa5853fdef7d2f6bb68203d187ddacbbddc63a8b   \n",
       "\n",
       "                                               title  \\\n",
       "0  Reproducible, interactive, scalable and extens...   \n",
       "1  High-Dimensional Probability: An Introduction ...   \n",
       "\n",
       "                                            abstract confjorID  \\\n",
       "0                                                NaN     j6283   \n",
       "1  © 2018, Cambridge University Press Let us summ...    j15687   \n",
       "\n",
       "                   confjorTitle proceedingsVolumesIds  \n",
       "0  Chemical Engineering Journal               jv15795  \n",
       "1         Global Change Biology                   cp1  "
      ]
     },
     "execution_count": 171,
     "metadata": {},
     "output_type": "execute_result"
    }
   ],
   "source": [
    "papers.head(2)"
   ]
  },
  {
   "cell_type": "code",
   "execution_count": 172,
   "id": "f8daa8a0",
   "metadata": {},
   "outputs": [],
   "source": [
    "g.add((LAB.Paper, LAB.isPublishedInConference, LAB.Proceedings))\n",
    "g.add((LAB.Paper, LAB.isPublishedInJournal, LAB.Volume))\n",
    "for k in range(len(papers['paperID'])):\n",
    "    if papers['confjorID'][k][0] == 'c':\n",
    "        g.add((URIRef(LAB+papers['paperID'][k]), LAB.isPublishedInConference, URIRef(LAB+papers['proceedingsVolumesIds'][k])))\n",
    "    else:\n",
    "        g.add((URIRef(LAB+papers['paperID'][k]), LAB.isPublishedInJournal, URIRef(LAB+papers['proceedingsVolumesIds'][k])))"
   ]
  },
  {
   "cell_type": "markdown",
   "id": "42f35f5c",
   "metadata": {},
   "source": [
    "Proceedings [proceedingsRelatedTo] -> Topic and Volumes [volumeRelatedTo] -> Topic"
   ]
  },
  {
   "cell_type": "code",
   "execution_count": 173,
   "id": "ebd59d58",
   "metadata": {},
   "outputs": [
    {
     "data": {
      "text/html": [
       "<div>\n",
       "<style scoped>\n",
       "    .dataframe tbody tr th:only-of-type {\n",
       "        vertical-align: middle;\n",
       "    }\n",
       "\n",
       "    .dataframe tbody tr th {\n",
       "        vertical-align: top;\n",
       "    }\n",
       "\n",
       "    .dataframe thead th {\n",
       "        text-align: right;\n",
       "    }\n",
       "</style>\n",
       "<table border=\"1\" class=\"dataframe\">\n",
       "  <thead>\n",
       "    <tr style=\"text-align: right;\">\n",
       "      <th></th>\n",
       "      <th>topicID</th>\n",
       "      <th>jcIDs</th>\n",
       "      <th>vpIDs</th>\n",
       "    </tr>\n",
       "  </thead>\n",
       "  <tbody>\n",
       "    <tr>\n",
       "      <th>0</th>\n",
       "      <td>t7270</td>\n",
       "      <td>j15795</td>\n",
       "      <td>jv15795</td>\n",
       "    </tr>\n",
       "    <tr>\n",
       "      <th>1</th>\n",
       "      <td>t860</td>\n",
       "      <td>c1</td>\n",
       "      <td>cp1</td>\n",
       "    </tr>\n",
       "  </tbody>\n",
       "</table>\n",
       "</div>"
      ],
      "text/plain": [
       "  topicID   jcIDs    vpIDs\n",
       "0   t7270  j15795  jv15795\n",
       "1    t860      c1      cp1"
      ]
     },
     "execution_count": 173,
     "metadata": {},
     "output_type": "execute_result"
    }
   ],
   "source": [
    "topicsProceedingsVolumes.head(2)"
   ]
  },
  {
   "cell_type": "code",
   "execution_count": 174,
   "id": "d21c9bbe",
   "metadata": {},
   "outputs": [],
   "source": [
    "g.add((LAB.Proceedings, LAB.proceedingRelatedTo, LAB.Topic))\n",
    "g.add((LAB.Volume, LAB.volumeRelatedTo, LAB.Topic))\n",
    "for k in range(len(topicsProceedingsVolumes['vpIDs'])):\n",
    "    curr_confJour_keyword = topicsProceedingsVolumes['topicID'][k]\n",
    "    if topicsProceedingsVolumes['vpIDs'][k][0] == 'c':\n",
    "        g.add((URIRef(LAB+topicsProceedingsVolumes['vpIDs'][k]), LAB.proceedingRelatedTo, URIRef(LAB+topicsProceedingsVolumes['topicID'][k])))\n",
    "    else:\n",
    "        g.add((URIRef(LAB+topicsProceedingsVolumes['vpIDs'][k]), LAB.volumeRelatedTo, URIRef(LAB+topicsProceedingsVolumes['topicID'][k])))"
   ]
  },
  {
   "cell_type": "markdown",
   "id": "01b8fd89",
   "metadata": {},
   "source": [
    "Creating Chair [handleConference] -> Conference and Editor [handleJournal] -> [Journal]"
   ]
  },
  {
   "cell_type": "code",
   "execution_count": 175,
   "id": "14681e17",
   "metadata": {},
   "outputs": [
    {
     "data": {
      "text/html": [
       "<div>\n",
       "<style scoped>\n",
       "    .dataframe tbody tr th:only-of-type {\n",
       "        vertical-align: middle;\n",
       "    }\n",
       "\n",
       "    .dataframe tbody tr th {\n",
       "        vertical-align: top;\n",
       "    }\n",
       "\n",
       "    .dataframe thead th {\n",
       "        text-align: right;\n",
       "    }\n",
       "</style>\n",
       "<table border=\"1\" class=\"dataframe\">\n",
       "  <thead>\n",
       "    <tr style=\"text-align: right;\">\n",
       "      <th></th>\n",
       "      <th>conferenceID</th>\n",
       "      <th>authorID</th>\n",
       "      <th>chairID</th>\n",
       "    </tr>\n",
       "  </thead>\n",
       "  <tbody>\n",
       "    <tr>\n",
       "      <th>0</th>\n",
       "      <td>c39</td>\n",
       "      <td>a57479</td>\n",
       "      <td>chair0</td>\n",
       "    </tr>\n",
       "    <tr>\n",
       "      <th>1</th>\n",
       "      <td>c170</td>\n",
       "      <td>a57840</td>\n",
       "      <td>chair1</td>\n",
       "    </tr>\n",
       "  </tbody>\n",
       "</table>\n",
       "</div>"
      ],
      "text/plain": [
       "  conferenceID authorID chairID\n",
       "0          c39   a57479  chair0\n",
       "1         c170   a57840  chair1"
      ]
     },
     "execution_count": 175,
     "metadata": {},
     "output_type": "execute_result"
    }
   ],
   "source": [
    "chair.head(2)"
   ]
  },
  {
   "cell_type": "code",
   "execution_count": 176,
   "id": "3bf66de1",
   "metadata": {},
   "outputs": [
    {
     "data": {
      "text/html": [
       "<div>\n",
       "<style scoped>\n",
       "    .dataframe tbody tr th:only-of-type {\n",
       "        vertical-align: middle;\n",
       "    }\n",
       "\n",
       "    .dataframe tbody tr th {\n",
       "        vertical-align: top;\n",
       "    }\n",
       "\n",
       "    .dataframe thead th {\n",
       "        text-align: right;\n",
       "    }\n",
       "</style>\n",
       "<table border=\"1\" class=\"dataframe\">\n",
       "  <thead>\n",
       "    <tr style=\"text-align: right;\">\n",
       "      <th></th>\n",
       "      <th>journalID</th>\n",
       "      <th>authorID</th>\n",
       "      <th>editorID</th>\n",
       "    </tr>\n",
       "  </thead>\n",
       "  <tbody>\n",
       "    <tr>\n",
       "      <th>0</th>\n",
       "      <td>j11456</td>\n",
       "      <td>a57479</td>\n",
       "      <td>editor0</td>\n",
       "    </tr>\n",
       "    <tr>\n",
       "      <th>1</th>\n",
       "      <td>j16528</td>\n",
       "      <td>a57840</td>\n",
       "      <td>editor1</td>\n",
       "    </tr>\n",
       "  </tbody>\n",
       "</table>\n",
       "</div>"
      ],
      "text/plain": [
       "  journalID authorID editorID\n",
       "0    j11456   a57479  editor0\n",
       "1    j16528   a57840  editor1"
      ]
     },
     "execution_count": 176,
     "metadata": {},
     "output_type": "execute_result"
    }
   ],
   "source": [
    "editor.head(2)"
   ]
  },
  {
   "cell_type": "code",
   "execution_count": 177,
   "id": "c0734039",
   "metadata": {},
   "outputs": [],
   "source": [
    "g.add((LAB.Chair, LAB.handleConference, LAB.Conference))\n",
    "for k in range(len(chair['conferenceID'])):\n",
    "    g.add((URIRef(LAB+chair['authorID'][k]), LAB.handleConference, URIRef(LAB+chair['conferenceID'][k])))"
   ]
  },
  {
   "cell_type": "code",
   "execution_count": 178,
   "id": "1ede3386",
   "metadata": {},
   "outputs": [],
   "source": [
    "g.add((LAB.Editor, LAB.handleJournal, LAB.Journal))\n",
    "for k in range(len(editor['journalID'])):\n",
    "    g.add((URIRef(LAB+editor['authorID'][k]), LAB.handleJournal, URIRef(LAB+editor['journalID'][k])))"
   ]
  },
  {
   "cell_type": "markdown",
   "id": "8504b980",
   "metadata": {},
   "source": [
    "Creating Supervisor [assigns] -> Reviewer"
   ]
  },
  {
   "cell_type": "code",
   "execution_count": 179,
   "id": "6596e5db",
   "metadata": {},
   "outputs": [
    {
     "data": {
      "text/html": [
       "<div>\n",
       "<style scoped>\n",
       "    .dataframe tbody tr th:only-of-type {\n",
       "        vertical-align: middle;\n",
       "    }\n",
       "\n",
       "    .dataframe tbody tr th {\n",
       "        vertical-align: top;\n",
       "    }\n",
       "\n",
       "    .dataframe thead th {\n",
       "        text-align: right;\n",
       "    }\n",
       "</style>\n",
       "<table border=\"1\" class=\"dataframe\">\n",
       "  <thead>\n",
       "    <tr style=\"text-align: right;\">\n",
       "      <th></th>\n",
       "      <th>authorID</th>\n",
       "      <th>supervisorID</th>\n",
       "      <th>confjorID</th>\n",
       "      <th>supervisorsIDs</th>\n",
       "    </tr>\n",
       "  </thead>\n",
       "  <tbody>\n",
       "    <tr>\n",
       "      <th>0</th>\n",
       "      <td>a38993</td>\n",
       "      <td>s38993</td>\n",
       "      <td>j6283</td>\n",
       "      <td>editor0</td>\n",
       "    </tr>\n",
       "    <tr>\n",
       "      <th>1</th>\n",
       "      <td>a66571</td>\n",
       "      <td>s66571</td>\n",
       "      <td>j15687</td>\n",
       "      <td>editor1</td>\n",
       "    </tr>\n",
       "  </tbody>\n",
       "</table>\n",
       "</div>"
      ],
      "text/plain": [
       "  authorID supervisorID confjorID supervisorsIDs\n",
       "0   a38993       s38993     j6283        editor0\n",
       "1   a66571       s66571    j15687        editor1"
      ]
     },
     "execution_count": 179,
     "metadata": {},
     "output_type": "execute_result"
    }
   ],
   "source": [
    "supervisors.head(2)"
   ]
  },
  {
   "cell_type": "code",
   "execution_count": 180,
   "id": "d83b2056",
   "metadata": {},
   "outputs": [],
   "source": [
    "g.add((LAB.Supervisor,LAB.assigns,LAB.Reviewer))\n",
    "for k in range(len(supervisors['supervisorsIDs'])):\n",
    "    g.add((URIRef(LAB+supervisors['supervisorsIDs'][k]), LAB.assigns, URIRef(LAB+supervisors['authorID'][k])))"
   ]
  },
  {
   "cell_type": "markdown",
   "id": "d731d20f",
   "metadata": {},
   "source": [
    "Creating Reviewer [reviewed] -> Review"
   ]
  },
  {
   "cell_type": "code",
   "execution_count": 181,
   "id": "d36a09c0",
   "metadata": {},
   "outputs": [
    {
     "data": {
      "text/html": [
       "<div>\n",
       "<style scoped>\n",
       "    .dataframe tbody tr th:only-of-type {\n",
       "        vertical-align: middle;\n",
       "    }\n",
       "\n",
       "    .dataframe tbody tr th {\n",
       "        vertical-align: top;\n",
       "    }\n",
       "\n",
       "    .dataframe thead th {\n",
       "        text-align: right;\n",
       "    }\n",
       "</style>\n",
       "<table border=\"1\" class=\"dataframe\">\n",
       "  <thead>\n",
       "    <tr style=\"text-align: right;\">\n",
       "      <th></th>\n",
       "      <th>authorRef</th>\n",
       "      <th>Name</th>\n",
       "      <th>reviewID</th>\n",
       "      <th>publicationID</th>\n",
       "      <th>paperID</th>\n",
       "      <th>title</th>\n",
       "      <th>reviewDecision</th>\n",
       "      <th>reviewDecisionBoolean</th>\n",
       "      <th>authorID</th>\n",
       "    </tr>\n",
       "  </thead>\n",
       "  <tbody>\n",
       "    <tr>\n",
       "      <th>0</th>\n",
       "      <td>57989947600</td>\n",
       "      <td>Yang K.</td>\n",
       "      <td>r362</td>\n",
       "      <td>pub212</td>\n",
       "      <td>p212</td>\n",
       "      <td>Lecture Notes in Computer Science (including s...</td>\n",
       "      <td>rejected</td>\n",
       "      <td>0</td>\n",
       "      <td>a15795</td>\n",
       "    </tr>\n",
       "    <tr>\n",
       "      <th>1</th>\n",
       "      <td>57555731100</td>\n",
       "      <td>Liu J.</td>\n",
       "      <td>r73</td>\n",
       "      <td>pub324</td>\n",
       "      <td>p324</td>\n",
       "      <td>Fuzzy Graph Theory</td>\n",
       "      <td>accepted</td>\n",
       "      <td>1</td>\n",
       "      <td>a860</td>\n",
       "    </tr>\n",
       "  </tbody>\n",
       "</table>\n",
       "</div>"
      ],
      "text/plain": [
       "     authorRef     Name reviewID publicationID paperID  \\\n",
       "0  57989947600  Yang K.     r362        pub212    p212   \n",
       "1  57555731100   Liu J.      r73        pub324    p324   \n",
       "\n",
       "                                               title reviewDecision  \\\n",
       "0  Lecture Notes in Computer Science (including s...       rejected   \n",
       "1                                 Fuzzy Graph Theory       accepted   \n",
       "\n",
       "   reviewDecisionBoolean authorID  \n",
       "0                      0   a15795  \n",
       "1                      1     a860  "
      ]
     },
     "execution_count": 181,
     "metadata": {},
     "output_type": "execute_result"
    }
   ],
   "source": [
    "reviewers.head(2)"
   ]
  },
  {
   "cell_type": "code",
   "execution_count": 182,
   "id": "9f02e5f8",
   "metadata": {},
   "outputs": [],
   "source": [
    "g.add((LAB.Reviewer, LAB.reviewed, LAB.Review))\n",
    "for k in range(len(reviewers['reviewID'])):\n",
    "    g.add((URIRef(LAB+reviewers['authorID'][k]), LAB.reviewed, URIRef(LAB+reviewers['reviewID'][k])))"
   ]
  },
  {
   "cell_type": "markdown",
   "id": "57c705c6",
   "metadata": {},
   "source": [
    "Creating Review [isReviewOf] -> Paper"
   ]
  },
  {
   "cell_type": "code",
   "execution_count": 183,
   "id": "92307b11",
   "metadata": {},
   "outputs": [
    {
     "data": {
      "text/html": [
       "<div>\n",
       "<style scoped>\n",
       "    .dataframe tbody tr th:only-of-type {\n",
       "        vertical-align: middle;\n",
       "    }\n",
       "\n",
       "    .dataframe tbody tr th {\n",
       "        vertical-align: top;\n",
       "    }\n",
       "\n",
       "    .dataframe thead th {\n",
       "        text-align: right;\n",
       "    }\n",
       "</style>\n",
       "<table border=\"1\" class=\"dataframe\">\n",
       "  <thead>\n",
       "    <tr style=\"text-align: right;\">\n",
       "      <th></th>\n",
       "      <th>reviewID</th>\n",
       "      <th>publicationID</th>\n",
       "      <th>paperID</th>\n",
       "      <th>title</th>\n",
       "      <th>reviewDecision</th>\n",
       "      <th>reviewDecisionBoolean</th>\n",
       "    </tr>\n",
       "  </thead>\n",
       "  <tbody>\n",
       "    <tr>\n",
       "      <th>0</th>\n",
       "      <td>r0</td>\n",
       "      <td>pub0</td>\n",
       "      <td>p0</td>\n",
       "      <td>Reproducible, interactive, scalable and extens...</td>\n",
       "      <td>rejected</td>\n",
       "      <td>0</td>\n",
       "    </tr>\n",
       "    <tr>\n",
       "      <th>1</th>\n",
       "      <td>r1</td>\n",
       "      <td>pub1</td>\n",
       "      <td>p1</td>\n",
       "      <td>High-Dimensional Probability: An Introduction ...</td>\n",
       "      <td>accepted</td>\n",
       "      <td>1</td>\n",
       "    </tr>\n",
       "  </tbody>\n",
       "</table>\n",
       "</div>"
      ],
      "text/plain": [
       "  reviewID publicationID paperID  \\\n",
       "0       r0          pub0      p0   \n",
       "1       r1          pub1      p1   \n",
       "\n",
       "                                               title reviewDecision  \\\n",
       "0  Reproducible, interactive, scalable and extens...       rejected   \n",
       "1  High-Dimensional Probability: An Introduction ...       accepted   \n",
       "\n",
       "   reviewDecisionBoolean  \n",
       "0                      0  \n",
       "1                      1  "
      ]
     },
     "execution_count": 183,
     "metadata": {},
     "output_type": "execute_result"
    }
   ],
   "source": [
    "reviews.head(2)"
   ]
  },
  {
   "cell_type": "code",
   "execution_count": 184,
   "id": "a4bbab0c",
   "metadata": {},
   "outputs": [],
   "source": [
    "g.add((LAB.Review, LAB.reviews, LAB.Paper))\n",
    "for k in range(len(reviews['reviewID'])):\n",
    "    g.add((URIRef(LAB+reviews['reviewID'][k]), LAB.reviews, URIRef(LAB+reviews['paperID'][k])))"
   ]
  },
  {
   "cell_type": "markdown",
   "id": "78ef97b9",
   "metadata": {},
   "source": [
    "Paper [title] -> String "
   ]
  },
  {
   "cell_type": "code",
   "execution_count": 185,
   "id": "000e68d6",
   "metadata": {},
   "outputs": [],
   "source": [
    "g.add((LAB.Paper, LAB.title, XSD.string))\n",
    "for k in range(len(papers['paperID'])):\n",
    "    g.add((URIRef(LAB+papers['paperID'][k]), LAB.title, Literal(papers['title'][k])))"
   ]
  },
  {
   "cell_type": "markdown",
   "id": "f9f50f9b",
   "metadata": {},
   "source": [
    "Paper [abstract] -> String"
   ]
  },
  {
   "cell_type": "code",
   "execution_count": 186,
   "id": "bfb9682d",
   "metadata": {},
   "outputs": [],
   "source": [
    "g.add((LAB.Paper, LAB.abstract, XSD.string))\n",
    "for k in range(len(papers['paperID'])):\n",
    "    g.add((URIRef(LAB+papers['paperID'][k]), LAB.abstract, Literal(papers['abstract'][k])))"
   ]
  },
  {
   "cell_type": "markdown",
   "id": "3a4f02cd",
   "metadata": {},
   "source": [
    "Author [Name] -> String "
   ]
  },
  {
   "cell_type": "code",
   "execution_count": 187,
   "id": "c9a578b3",
   "metadata": {},
   "outputs": [],
   "source": [
    "g.add((LAB.Author, LAB.Name, XSD.string))\n",
    "for k in range(len(authors1['authorID'])):\n",
    "    g.add((URIRef(LAB+authors1['authorID'][k]), LAB.Name, Literal(authors1['Name'][k])))"
   ]
  },
  {
   "cell_type": "markdown",
   "id": "0f4a984a",
   "metadata": {},
   "source": [
    "Journal [journal] -> String"
   ]
  },
  {
   "cell_type": "code",
   "execution_count": 188,
   "id": "407b915e",
   "metadata": {},
   "outputs": [],
   "source": [
    "g.add((LAB.Journal, LAB.journal, XSD.string))\n",
    "for k in range(len(journal['journalID'])):\n",
    "    g.add((URIRef(LAB+journal['journalID'][k]), LAB.journal, Literal(journal['journal'][k])))"
   ]
  },
  {
   "cell_type": "markdown",
   "id": "f89bbad5",
   "metadata": {},
   "source": [
    "Conference [name] -> String "
   ]
  },
  {
   "cell_type": "code",
   "execution_count": 189,
   "id": "9fb4510c",
   "metadata": {},
   "outputs": [],
   "source": [
    "g.add((LAB.Conference, LAB.name, XSD.string))\n",
    "for k in range(len(conference['conferenceID'])):\n",
    "    g.add((URIRef(LAB+conference['conferenceID'][k]), LAB.name, Literal(conference['name'][k])))"
   ]
  },
  {
   "cell_type": "markdown",
   "id": "ea0b4f42",
   "metadata": {},
   "source": [
    "Proceedings [proceedingTitle] -> String "
   ]
  },
  {
   "cell_type": "code",
   "execution_count": 190,
   "id": "7f355692",
   "metadata": {},
   "outputs": [],
   "source": [
    "g.add((LAB.Proceedings, LAB.proceedingTitle, XSD.string))\n",
    "for k in range(len(proceeding['proceedingID'])):\n",
    "    g.add((URIRef(LAB+proceeding['proceedingID'][k]), LAB.proceedingTitle, Literal(proceeding['proceedingTitle'][k])))"
   ]
  },
  {
   "cell_type": "markdown",
   "id": "f61c6dc6",
   "metadata": {},
   "source": [
    "Proceedings [year] -> int"
   ]
  },
  {
   "cell_type": "code",
   "execution_count": 191,
   "id": "4cad359b",
   "metadata": {},
   "outputs": [],
   "source": [
    "g.add((LAB.Proceedings, LAB.year, XSD.int))\n",
    "for k in range(len(proceeding['proceedingID'])):\n",
    "    g.add((URIRef(LAB+proceeding['proceedingID'][k]), LAB.year, Literal(proceeding['year'][k])))"
   ]
  },
  {
   "cell_type": "markdown",
   "id": "be11cc80",
   "metadata": {},
   "source": [
    "Volume [volumeName] -> String "
   ]
  },
  {
   "cell_type": "code",
   "execution_count": 192,
   "id": "44ec61fc",
   "metadata": {},
   "outputs": [],
   "source": [
    "g.add((LAB.Volume, LAB.volumeName, XSD.string))\n",
    "for k in range(len(volumes['volumeID'])):\n",
    "    g.add((URIRef(LAB+volumes['volumeID'][k]), LAB.volumeName, Literal(volumes['volumeName'][k])))"
   ]
  },
  {
   "cell_type": "markdown",
   "id": "d682442a",
   "metadata": {},
   "source": [
    "Volume  [year] -> int"
   ]
  },
  {
   "cell_type": "code",
   "execution_count": 193,
   "id": "c53600b0",
   "metadata": {},
   "outputs": [],
   "source": [
    "g.add((LAB.Volume, LAB.year, XSD.int))\n",
    "for k in range(len(volumes['volumeID'])):\n",
    "    g.add((URIRef(LAB+volumes['volumeID'][k]), LAB.year, Literal(volumes['year'][k])))"
   ]
  },
  {
   "cell_type": "markdown",
   "id": "5dcb3fa3",
   "metadata": {},
   "source": [
    "Topic  [topicName] -> String"
   ]
  },
  {
   "cell_type": "code",
   "execution_count": 194,
   "id": "f5300784",
   "metadata": {},
   "outputs": [],
   "source": [
    "g.add((LAB.Topic, LAB.topicName, XSD.string))\n",
    "for k in range(len(topic['topicID'])):\n",
    "    g.add((URIRef(LAB+topic['topicID'][k]), LAB.topicName, Literal(topic['topicName'][k])))"
   ]
  },
  {
   "cell_type": "markdown",
   "id": "60b0c491",
   "metadata": {},
   "source": [
    "Review [reviewDecision] -> String"
   ]
  },
  {
   "cell_type": "code",
   "execution_count": 195,
   "id": "eb4f14ae",
   "metadata": {},
   "outputs": [],
   "source": [
    "g.add((LAB.Review, LAB.reviewDecision, XSD.string))\n",
    "for k in range(len(reviews['reviewID'])):\n",
    "    g.add((URIRef(LAB+reviews['reviewID'][k]), LAB.reviewDecision, Literal(reviews['reviewDecision'][k])))"
   ]
  },
  {
   "cell_type": "markdown",
   "id": "3cee14dc",
   "metadata": {},
   "source": [
    "Review [reviewDecisionBoolean] -> boolean "
   ]
  },
  {
   "cell_type": "code",
   "execution_count": 196,
   "id": "dc5f897d",
   "metadata": {},
   "outputs": [],
   "source": [
    "g.add((LAB.Review, LAB.reviewDecisionBoolean, XSD.boolean))\n",
    "for k in range(len(reviews['reviewID'])):\n",
    "    g.add((URIRef(LAB+reviews['reviewID'][k]), LAB.reviewDecisionBoolean, Literal(reviews['reviewDecisionBoolean'][k])))"
   ]
  },
  {
   "cell_type": "markdown",
   "id": "1368d415",
   "metadata": {},
   "source": [
    "output"
   ]
  },
  {
   "cell_type": "code",
   "execution_count": 197,
   "id": "b11b9eca",
   "metadata": {},
   "outputs": [
    {
     "data": {
      "text/plain": [
       "<Graph identifier=Na2f6a93126e64da89c17869849965e88 (<class 'rdflib.graph.Graph'>)>"
      ]
     },
     "execution_count": 197,
     "metadata": {},
     "output_type": "execute_result"
    }
   ],
   "source": [
    "g.serialize('data/abox.ttl',format = 'ttl')"
   ]
  },
  {
   "cell_type": "code",
   "execution_count": null,
   "id": "975e88d4",
   "metadata": {},
   "outputs": [],
   "source": []
  }
 ],
 "metadata": {
  "kernelspec": {
   "display_name": "Python 3 (ipykernel)",
   "language": "python",
   "name": "python3"
  },
  "language_info": {
   "codemirror_mode": {
    "name": "ipython",
    "version": 3
   },
   "file_extension": ".py",
   "mimetype": "text/x-python",
   "name": "python",
   "nbconvert_exporter": "python",
   "pygments_lexer": "ipython3",
   "version": "3.11.5"
  }
 },
 "nbformat": 4,
 "nbformat_minor": 5
}
